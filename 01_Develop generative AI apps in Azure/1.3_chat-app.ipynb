{
 "cells": [
  {
   "cell_type": "code",
   "execution_count": 2,
   "id": "75b26eb7",
   "metadata": {},
   "outputs": [],
   "source": [
    "import os\n",
    "from dotenv import load_dotenv"
   ]
  },
  {
   "cell_type": "code",
   "execution_count": 4,
   "id": "02a2283b",
   "metadata": {},
   "outputs": [],
   "source": [
    "# Add references\n",
    "from azure.identity import DefaultAzureCredential\n",
    "from azure.ai.projects import AIProjectClient\n",
    "from openai import AzureOpenAI"
   ]
  },
  {
   "cell_type": "code",
   "execution_count": 5,
   "id": "104036de",
   "metadata": {},
   "outputs": [
    {
     "data": {
      "text/plain": [
       "0"
      ]
     },
     "execution_count": 5,
     "metadata": {},
     "output_type": "execute_result"
    }
   ],
   "source": [
    "# Clear the console\n",
    "os.system('cls' if os.name=='nt' else 'clear')"
   ]
  },
  {
   "cell_type": "code",
   "execution_count": 6,
   "id": "387ab62f",
   "metadata": {},
   "outputs": [
    {
     "name": "stdout",
     "output_type": "stream",
     "text": [
      "https://hanji-md69i1n9-northcentralus.services.ai.azure.com/api/projects/hanji-md69i1n9-northcentralus_project\n",
      "gpt-4o\n"
     ]
    }
   ],
   "source": [
    "# Get configuration settings \n",
    "load_dotenv()\n",
    "project_endpoint = os.getenv(\"PROJECT_ENDPOINT\")\n",
    "model_deployment =  os.getenv(\"MODEL_DEPLOYMENT\")\n",
    "\n",
    "print(project_endpoint)\n",
    "print(model_deployment)"
   ]
  },
  {
   "cell_type": "code",
   "execution_count": 7,
   "id": "3795e1b8",
   "metadata": {},
   "outputs": [],
   "source": [
    "# Initialize the project client\n",
    "project_client = AIProjectClient(\n",
    "    credential=DefaultAzureCredential(\n",
    "        exclude_environment_credential=True,\n",
    "        exclude_managed_identity_credential=True\n",
    "    ),\n",
    "    endpoint=project_endpoint,\n",
    ")"
   ]
  },
  {
   "cell_type": "code",
   "execution_count": 8,
   "id": "9166806e",
   "metadata": {},
   "outputs": [],
   "source": [
    "# Get a chat client\n",
    "openai_client = project_client.inference.get_azure_openai_client(api_version=\"2024-10-21\")"
   ]
  },
  {
   "cell_type": "code",
   "execution_count": 9,
   "id": "4283653d",
   "metadata": {},
   "outputs": [],
   "source": [
    "# Initialize prompt with system message\n",
    "prompt = [\n",
    "    {\"role\": \"system\", \"content\": \"You are a helpful AI assistant that answers questions.\"}\n",
    "]"
   ]
  },
  {
   "cell_type": "code",
   "execution_count": 10,
   "id": "6a60b0cf",
   "metadata": {},
   "outputs": [
    {
     "name": "stdout",
     "output_type": "stream",
     "text": [
      "The largest planet in the solar system is **Jupiter**. It has a diameter of about 139,820 kilometers (86,881 miles) and is so massive that it could fit all the other planets in the solar system inside it (and still have space left over!). Jupiter is a gas giant, primarily composed of hydrogen and helium, and it is known for features like its Great Red Spot—a giant storm that has been raging for centuries.\n"
     ]
    }
   ],
   "source": [
    "while True:\n",
    "    # Get input text\n",
    "    input_text = input(\"Enter the prompt (or type 'quit' to exit): \")\n",
    "    if input_text.lower() == \"quit\":\n",
    "        break\n",
    "    if len(input_text) == 0:\n",
    "        print(\"Please enter a prompt.\")\n",
    "        continue\n",
    "    \n",
    "    # Get a chat completion\n",
    "    prompt.append({\"role\": \"user\", \"content\": input_text})\n",
    "    response = openai_client.chat.completions.create(\n",
    "            model=model_deployment,\n",
    "            messages=prompt)\n",
    "    completion = response.choices[0].message.content\n",
    "    print(completion)\n",
    "    prompt.append({\"role\": \"assistant\", \"content\": completion})"
   ]
  }
 ],
 "metadata": {
  "kernelspec": {
   "display_name": ".venv",
   "language": "python",
   "name": "python3"
  },
  "language_info": {
   "codemirror_mode": {
    "name": "ipython",
    "version": 3
   },
   "file_extension": ".py",
   "mimetype": "text/x-python",
   "name": "python",
   "nbconvert_exporter": "python",
   "pygments_lexer": "ipython3",
   "version": "3.13.1"
  }
 },
 "nbformat": 4,
 "nbformat_minor": 5
}
