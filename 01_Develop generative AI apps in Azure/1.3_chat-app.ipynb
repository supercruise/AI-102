{
 "cells": [
  {
   "cell_type": "code",
   "execution_count": 1,
   "id": "75b26eb7",
   "metadata": {},
   "outputs": [],
   "source": [
    "import os\n",
    "from dotenv import load_dotenv"
   ]
  },
  {
   "cell_type": "code",
   "execution_count": 4,
   "id": "02a2283b",
   "metadata": {},
   "outputs": [],
   "source": [
    "# Add references\n",
    "from azure.identity import DefaultAzureCredential\n",
    "from azure.ai.projects import AIProjectClient\n",
    "from openai import AzureOpenAI"
   ]
  },
  {
   "cell_type": "code",
   "execution_count": 5,
   "id": "104036de",
   "metadata": {},
   "outputs": [
    {
     "data": {
      "text/plain": [
       "0"
      ]
     },
     "execution_count": 5,
     "metadata": {},
     "output_type": "execute_result"
    }
   ],
   "source": [
    "# Clear the console\n",
    "os.system('cls' if os.name=='nt' else 'clear')"
   ]
  },
  {
   "cell_type": "code",
   "execution_count": 7,
   "id": "387ab62f",
   "metadata": {},
   "outputs": [
    {
     "name": "stdout",
     "output_type": "stream",
     "text": [
      "https://hanji-md69i1n9-northcentralus.services.ai.azure.com/api/projects/hanji-md69i1n9-northcentralus_project\n",
      "gpt-4o\n"
     ]
    }
   ],
   "source": [
    "# Get configuration settings \n",
    "load_dotenv()\n",
    "project_endpoint = os.getenv(\"PROJECT_ENDPOINT\")\n",
    "model_deployment =  os.getenv(\"MODEL_DEPLOYMENT\")\n",
    "\n",
    "print(project_endpoint)\n",
    "print(model_deployment)"
   ]
  },
  {
   "cell_type": "code",
   "execution_count": 15,
   "id": "3795e1b8",
   "metadata": {},
   "outputs": [],
   "source": [
    "# Initialize the project client\n",
    "project_client = AIProjectClient(\n",
    "    credential=DefaultAzureCredential(\n",
    "        exclude_environment_credential=True,\n",
    "        exclude_managed_identity_credential=True\n",
    "    ),\n",
    "    endpoint=project_endpoint,\n",
    ")"
   ]
  },
  {
   "cell_type": "code",
   "execution_count": 9,
   "id": "9166806e",
   "metadata": {},
   "outputs": [],
   "source": [
    "# Get a chat client\n",
    "openai_client = project_client.inference.get_azure_openai_client(api_version=\"2024-10-21\")"
   ]
  },
  {
   "cell_type": "code",
   "execution_count": 14,
   "id": "4283653d",
   "metadata": {},
   "outputs": [],
   "source": [
    "# Initialize prompt with system message\n",
    "prompt = [\n",
    "    {\"role\": \"system\", \"content\": \"You are a helpful AI assistant that answers questions.\"}\n",
    "]"
   ]
  },
  {
   "cell_type": "code",
   "execution_count": 13,
   "id": "6a60b0cf",
   "metadata": {},
   "outputs": [
    {
     "name": "stdout",
     "output_type": "stream",
     "text": [
      "The **peregrine falcon** is the fastest animal on Earth. During its hunting dive, called a stoop, it can reach speeds of over **240 miles per hour (386 km/h)**! This incredible speed makes it the fastest creature in the animal kingdom. \n",
      "\n",
      "On land, the fastest animal is the **cheetah**, which can run at speeds up to **60-70 miles per hour (97-113 km/h)** in short bursts.\n",
      "You can see peregrine falcons in a variety of places depending on where you live, as they are found on every continent except Antarctica. Here are some common locations where you might spot one:\n",
      "\n",
      "### 1. **Urban Areas**  \n",
      "Peregrine falcons have adapted very well to cities and urban environments due to the abundance of tall buildings (mimicking cliffs) for nesting and an ample food supply, such as pigeons. Look up at skyscrapers, towers, or bridges, particularly in cities like New York, London, or Sydney.\n",
      "\n",
      "### 2. **Cliffs and Natural Landscape**  \n",
      "In more natural habitats, peregrine falcons are often found on coastal cliffs, mountains, and open landscapes. Some famous spots include:\n",
      "   - **Grand Canyon National Park (USA)**\n",
      "   - **Farne Islands (UK)**\n",
      "   - **Blue Mountains (Australia)**\n",
      "\n",
      "### 3. **Wildlife Reserves and Parks**  \n",
      "Many wildlife reserves are home to peregrine falcons, where they are often protected due to their conservation status in some regions. Check for local sanctuaries, birdwatching trails, or even raptor centers that educate the public about birds of prey.\n",
      "\n",
      "### 4. **Migration Seasons**  \n",
      "Peregrine falcons are migratory birds in many parts of the world, so you can spot them along migration routes during spring or autumn.\n",
      "\n",
      "Let me know where you're located, and I can help you find specific spots near you! 😊\n"
     ]
    }
   ],
   "source": [
    "while True:\n",
    "    # Get input text\n",
    "    input_text = input(\"Enter the prompt (or type 'quit' to exit): \")\n",
    "    if input_text.lower() == \"quit\":\n",
    "        break\n",
    "    if len(input_text) == 0:\n",
    "        print(\"Please enter a prompt.\")\n",
    "        continue\n",
    "    \n",
    "    # Get a chat completion\n",
    "    prompt.append({\"role\": \"user\", \"content\": input_text})\n",
    "    response = openai_client.chat.completions.create(\n",
    "            model=model_deployment,\n",
    "            messages=prompt)\n",
    "    completion = response.choices[0].message.content\n",
    "    print(completion)\n",
    "    prompt.append({\"role\": \"assistant\", \"content\": completion})"
   ]
  }
 ],
 "metadata": {
  "kernelspec": {
   "display_name": ".venv",
   "language": "python",
   "name": "python3"
  },
  "language_info": {
   "codemirror_mode": {
    "name": "ipython",
    "version": 3
   },
   "file_extension": ".py",
   "mimetype": "text/x-python",
   "name": "python",
   "nbconvert_exporter": "python",
   "pygments_lexer": "ipython3",
   "version": "3.13.1"
  }
 },
 "nbformat": 4,
 "nbformat_minor": 5
}
